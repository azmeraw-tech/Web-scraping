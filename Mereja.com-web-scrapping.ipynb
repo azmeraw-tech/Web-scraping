{
  "cells": [
    {
      "cell_type": "code",
      "execution_count": null,
      "metadata": {
        "id": "AL0Reyam9bLw"
      },
      "outputs": [],
      "source": [
        "import requests\n",
        "from bs4 import BeautifulSoup\n",
        "import pandas as pd\n",
        "import numpy as np"
      ]
    },
    {
      "cell_type": "code",
      "execution_count": null,
      "metadata": {
        "colab": {
          "background_save": true
        },
        "id": "JV-bqkuZZrUz"
      },
      "outputs": [],
      "source": [
        "file=open(\"RMEREJA.txt\",\"w\")\n",
        "for i in range(29161,785528):\n",
        "  url=f\"https://mereja.com/amharic/v2/{i}\"\n",
        "  response=requests.get(url)\n",
        "  response=response.content\n",
        "  soup=BeautifulSoup(response,'html.parser')\n",
        "  articles=soup.find_all('body',class_='post-template-default')\n",
        "\n",
        "  for article in articles:\n",
        "    title=article.find('h1', class_=\"entry-title post-title\").text\n",
        "    News=article.find('div', class_=\"post-entry\").text\n",
        "    file.write(str(title))\n",
        "    file.write(str(News))\n",
        "  file.flush()\n",
        "  file.close"
      ]
    },
    {
      "cell_type": "code",
      "execution_count": null,
      "metadata": {
        "id": "4te4acWqDAeU"
      },
      "outputs": [],
      "source": []
    }
  ],
  "metadata": {
    "colab": {
      "provenance": []
    },
    "gpuClass": "standard",
    "kernelspec": {
      "display_name": "Python 3",
      "name": "python3"
    },
    "language_info": {
      "name": "python"
    }
  },
  "nbformat": 4,
  "nbformat_minor": 0
}